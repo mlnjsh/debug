{
 "cells": [
  {
   "cell_type": "markdown",
   "id": "a8042e25",
   "metadata": {},
   "source": [
    "### Log Latent Representations\n",
    "Add detailed logging to inspect whether the latent vectors are distinct for different inputs.\n",
    "\n",
    "### Validate Centroids\n",
    "Check that the centroids are not identical and are appropriately spaced.\n",
    "\n",
    "### Update Similarity Calculation\n",
    "Ensure that the cosine similarity calculation uses correctly scaled and diverse data.\n"
   ]
  },
  {
   "cell_type": "code",
   "execution_count": null,
   "id": "9139b0fd-146f-4c74-a3e2-1a5bfe7658b8",
   "metadata": {},
   "outputs": [],
   "source": [
    "def match(name, cand_data):\n",
    "    try:\n",
    "        logger.info(f\"Matching for -> {name}\")\n",
    "        logger.info(f\"Candidate data -> {cand_data}\")\n",
    "        \n",
    "        # Define path\n",
    "        local_directory = \"./models\"\n",
    "        \n",
    "        # File paths for local storage\n",
    "        encoder_file_path = os.path.join(local_directory, f\"{name}_encoder.keras\")\n",
    "        scaler_file_path = os.path.join(local_directory, f\"{name}_scaler.pkl\")\n",
    "        centroids_file_path = os.path.join(local_directory, f\"{name}_centroids.json\")\n",
    "        \n",
    "        # Load necessary components\n",
    "        scaler = load_scaler(scaler_file_path)  # Load serialized scaler\n",
    "        encoder = load_model(encoder_file_path)  # Load trained encoder model\n",
    "        stored_centroids = load_centroids(centroids_file_path)  # Load cluster centroids\n",
    "        \n",
    "        # Convert dictionary to pandas DataFrame\n",
    "        df = pd.DataFrame(cand_data)\n",
    "        logger.info(f\"Dataframe created:\\n{df}\")\n",
    "        \n",
    "        # Scale the data\n",
    "        scaled_data = scaler.transform(df)\n",
    "        logger.info(f\"Scaled data:\\n{scaled_data}\")\n",
    "        \n",
    "        # Generate latent representation\n",
    "        latent_representation = encoder.predict(scaled_data)\n",
    "        logger.info(f\"Latent representation shape: {latent_representation.shape}\")\n",
    "        logger.info(f\"Latent representation:\\n{latent_representation}\")\n",
    "        \n",
    "        # Ensure latent_representation is also in the correct shape\n",
    "        if len(latent_representation.shape) == 1:\n",
    "            latent_representation = latent_representation.reshape(1, -1)\n",
    "        \n",
    "        # Ensure stored_centroids is also a 2D array\n",
    "        stored_centroids = np.array(stored_centroids)\n",
    "        if len(stored_centroids.shape) == 1:\n",
    "            stored_centroids = stored_centroids.reshape(1, -1)\n",
    "        \n",
    "        logger.info(f\"Centroids:\\n{stored_centroids}\")\n",
    "        \n",
    "        # Compute cosine similarity\n",
    "        similarity_scores = cosine_similarity(latent_representation, stored_centroids).flatten()\n",
    "        logger.info(f\"Similarity scores for {name} -> {similarity_scores}\")\n",
    "        \n",
    "        # Classify based on similarity scores\n",
    "        classification = [\n",
    "            \"Low\" if sim < 0.7 else\n",
    "            \"Medium\" if sim < 0.85 else\n",
    "            \"High\" if sim < 0.95 else\n",
    "            \"High Plus\"\n",
    "            for sim in similarity_scores\n",
    "        ]\n",
    "        logger.info(f\"Match classifications for {name} -> {classification}\")\n",
    "        \n",
    "        return {\"status\": \"SUCCESS\", \"similarities\": similarity_scores.tolist(), \"classification\": classification}\n",
    "        \n",
    "    except Exception as e:\n",
    "        # Log errors\n",
    "        logger.error(f\"Error while matching candidate data for {name}: {str(e)}\")\n",
    "        return {\"status\": \"CULTMA01\", \"message\": \"Error while matching candidate data\", \"data\": str(e)}\n"
   ]
  },
  {
   "cell_type": "markdown",
   "id": "e253997b",
   "metadata": {},
   "source": [
    "# Additional Recommendations\n",
    "\n",
    "### Improve Logging:\n",
    "- Log shapes and samples of all intermediary computations like scaled data, latent representations, and centroids.\n",
    "\n",
    "### Verify Centroids:\n",
    "- Before similarity computation, ensure the centroids are not all zeros or identical:\n",
    "```python\n",
    "assert np.any(np.std(stored_centroids, axis=0) > 1e-6), \"Centroids are too similar!\"\n"
   ]
  },
  {
   "cell_type": "code",
   "execution_count": null,
   "id": "66664b9f",
   "metadata": {},
   "outputs": [],
   "source": []
  }
 ],
 "metadata": {
  "kernelspec": {
   "display_name": "Python 3 (ipykernel)",
   "language": "python",
   "name": "python3"
  },
  "language_info": {
   "codemirror_mode": {
    "name": "ipython",
    "version": 3
   },
   "file_extension": ".py",
   "mimetype": "text/x-python",
   "name": "python",
   "nbconvert_exporter": "python",
   "pygments_lexer": "ipython3",
   "version": "3.11.5"
  }
 },
 "nbformat": 4,
 "nbformat_minor": 5
}
